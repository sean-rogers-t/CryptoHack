{
 "cells": [
  {
   "cell_type": "markdown",
   "id": "2f2d34cc",
   "metadata": {},
   "source": [
    "# CryptoHack_Mathematics\n",
    "\n",
    "This category covers more advanced cryptographic math. It's not necessary to solve these before moving to the Block Cipher and RSA sections. However, the first challenges will expand your modular toolbox, while the later ones are reported to be among the most satisfying puzzles to solve on CryptoHack. There are 22 challenges."
   ]
  },
  {
   "cell_type": "markdown",
   "id": "4ba3efac",
   "metadata": {},
   "source": [
    "# Modular Math\n",
    "## Quadratic Residues"
   ]
  },
  {
   "cell_type": "markdown",
   "id": "eeeb1b21",
   "metadata": {},
   "source": [
    "We've looked at multiplication and division in modular arithmetic, but what does it mean to take the square root modulo an integer?\n",
    "\n",
    "For the following discussion, let's work modulo $p = 29$. We can take the integer $a = 11$ and calculate $a^2 = 5\\ mod\\ 29$.\n",
    "\n",
    "As $a = 11$, $a^2 = 5$, we say the square root of 5 is 11.\n",
    "\n",
    "This feels good, but now let's think about the square root of 18. From the above, we know we need to find some integer a such that $a^2 = 18$\n",
    "\n",
    "Your first idea might be to start with $a = 1$ and loop to $a = p-1$. In this discussion p isn't too large and we can quickly look.\n",
    "\n",
    "Have a go, try coding this and see what you find. If you've coded it right, you'll find that for all $a ∈ F_p^*$ you never find an a such that $a^2 = 18$.\n",
    "\n",
    "What we are seeing, is that for the elements of $F_p^*$, not every element has a square root. In fact, what we find is that for roughly one half of the elements of $F_p^*$, there is no square root.\n",
    "\n",
    "We say that an integer $x$ is a Quadratic Residue if there exists an $a$ such that $a^2 = x\\ mod\\ p$. If there is no such solution, then the integer is a Quadratic Non-Residue.\n",
    "\n",
    "In other words, $x$ is a quadratic residue when it is possible to take the square root of $x$ modulo an integer $p$.\n",
    "\n",
    "In the below list there are two non-quadratic residues and one quadratic residue.\n",
    "\n",
    "Find the quadratic residue and then calculate its square root. Of the two possible roots, submit the smaller one as the flag.\n",
    "\n",
    "If $a^2 = x$ then $(-a)^2 = x$. So if $x$ is a quadratic residue in some finite field, then there are always two solutions for $a$.\n",
    "\n",
    "```\n",
    "p = 29\n",
    "ints = [14, 6, 11] \n",
    "```"
   ]
  },
  {
   "cell_type": "code",
   "execution_count": 5,
   "id": "4ba0415a",
   "metadata": {},
   "outputs": [
    {
     "name": "stdout",
     "output_type": "stream",
     "text": [
      "(8, 6)\n",
      "(21, 6)\n"
     ]
    }
   ],
   "source": [
    "squares=[(x,x**2%29) for x in range(29)]\n",
    "for item in squares:\n",
    "    if item[1]==6:\n",
    "        print(item)"
   ]
  },
  {
   "cell_type": "markdown",
   "id": "764fce9a",
   "metadata": {},
   "source": [
    "So the smaller quadratic residue is 8. On to the next one!\n",
    "## Legendre Symbol\n",
    "\n",
    "In Quadratic Residues we learnt what it means to take the square root modulo an integer. We also saw that taking a root isn't always possible.\n",
    "\n",
    "In the previous case when $p = 29$, even the simplest method of calculating the square root was fast enough, but as p gets larger, this method becomes wildly unreasonable.\n",
    "\n",
    "Lucky for us, we have a way to check whether an integer is a quadratic residue with a single calculation thanks to Legendre. In the following, we will assume we are working modulo a prime $p$.\n",
    "\n",
    "Before looking at Legendre's symbol, let's take a brief detour to see an interesting property of quadratic (non-)residues.\n",
    "\n",
    "```\n",
    "Quadratic Residue * Quadratic Residue = Quadratic Residue\n",
    "Quadratic Residue * Quadratic Non-residue = Quadratic Non-residue\n",
    "Quadratic Non-residue * Quadratic Non-residue = Quadratic Residue \n",
    "```\n",
    "So what's the trick? The Legendre Symbol gives an efficient way to determine whether an integer is a quadratic residue modulo an odd prime p.\n",
    "\n",
    "Legendre's Symbol: $(a / p) ≡ a^{(p-1)/2}$ mod p obeys:\n",
    "```\n",
    "(a / p) = 1 if a is a quadratic residue and a ≢ 0 mod p\n",
    "(a / p) = -1 if a is a quadratic non-residue mod p\n",
    "(a / p) = 0 if a ≡ 0 mod p \n",
    "```\n",
    "Which means given any integer a, calculating `pow(a,(p-1)/2,p)` is enough to determine if a is a quadratic residue.\n",
    "\n",
    "Now for the flag. Given the following 1024 bit prime and 10 integers, find the quadratic residue and then calculate its square root; the square root is your flag. Of the two possible roots, submit the larger one as your answer.\n",
    "\n",
    "output.txt"
   ]
  },
  {
   "cell_type": "code",
   "execution_count": 22,
   "id": "987869ee",
   "metadata": {},
   "outputs": [],
   "source": [
    "with open(\"output_legendre.txt\") as f: \n",
    "    lines = f.readlines()  "
   ]
  },
  {
   "cell_type": "code",
   "execution_count": 23,
   "id": "5551341b",
   "metadata": {},
   "outputs": [
    {
     "data": {
      "text/plain": [
       "101524035174539890485408575671085261788758965189060164484385690801466167356667036677932998889725476582421738788500738738503134356158197247473850273565349249573867251280253564698939768700489401960767007716413932851838937641880157263936985954881657889497583485535527613578457628399173971810541670838543309159139"
      ]
     },
     "execution_count": 23,
     "metadata": {},
     "output_type": "execute_result"
    }
   ],
   "source": [
    "p=int(lines[0].strip('p =\\n'))\n",
    "p"
   ]
  },
  {
   "cell_type": "code",
   "execution_count": 24,
   "id": "7a975b8d",
   "metadata": {},
   "outputs": [],
   "source": [
    "int_list=[int(x) for x in lines[2].strip(\"ints =\\n[]\").split(',')]"
   ]
  },
  {
   "cell_type": "code",
   "execution_count": 17,
   "id": "db20a20a",
   "metadata": {},
   "outputs": [],
   "source": [
    "quadr_res = [n for n in int_list if pow(n, (p-1)//2, p)==1][0]"
   ]
  },
  {
   "cell_type": "markdown",
   "id": "f8e61670",
   "metadata": {},
   "source": [
    "Now that we have the quadratic residue, given that the prime is $p\\equiv3\\ mod\\ 4$, we can find the square root. If $a$ is a quadratic residue, then according to [Euler's Criterion](https://en.wikipedia.org/wiki/Euler%27s_criterion)\n",
    "$$a^{(p-1)/2}\\equiv1\\ mod\\ p$$\n",
    "It follows then that\n",
    "$$a^{(p+1)/2}\\equiv a^{(p-1)/2}a^{(p+1)/2}\\equiv a^{\\frac{(p-1)+(p+1)}{2}}\\equiv a^p\\equiv a\\ mod\\ p,$$ where the last equality follows from [Fermat's Little Theorem](https://en.wikipedia.org/wiki/Fermat%27s_little_theorem). Then since we know that $p\\equiv 3 mod 4$, i.e. $p=4\\cdot k+3$, it follows that $(p+1)/4$ is an integer. So, finally we have\n",
    "$$(a^{(p+1)/4})^2\\equiv a^{(p+1)/2}\\equiv a\\ mod\\ p.$$ So, the aquare root is..."
   ]
  },
  {
   "cell_type": "code",
   "execution_count": 21,
   "id": "6c03dfc2",
   "metadata": {},
   "outputs": [
    {
     "data": {
      "text/plain": [
       "93291799125366706806545638475797430512104976066103610269938025709952247020061090804870186195285998727680200979853848718589126765742550855954805290253592144209552123062161458584575060939481368210688629862036958857604707468372384278049741369153506182660264876115428251983455344219194133033177700490981696141526"
      ]
     },
     "execution_count": 21,
     "metadata": {},
     "output_type": "execute_result"
    }
   ],
   "source": [
    "pow(quadr_res, (p+1)//4, p)"
   ]
  },
  {
   "cell_type": "markdown",
   "id": "8acd6aad",
   "metadata": {},
   "source": [
    "On to the next one!\n",
    "## Modular Square Root\n",
    "In Legendre Symbol we introduced a fast way to determine whether a number is a square root modulo a prime. We can go further: there are algorithms for efficiently calculating such roots. The best one in practice is called Tonelli-Shanks, which gets its funny name from the fact that it was first described by an Italian in the 19th century and rediscovered independently by Daniel Shanks in the 1970s.\n",
    "\n",
    "All primes that aren't 2 are of the form `p ≡ 1 mod 4` or `p ≡ 3 mod 4`, since all odd numbers obey these congruences. As the previous challenge hinted, in the p ≡ 3 mod 4 case, a really simple formula for computing square roots can be derived directly from Fermat's little theorem. That leaves us still with the `p ≡ 1 mod 4` case, so a more general algorithm is required.\n",
    "\n",
    "In a congruence of the form `r^2 ≡ a mod p`, Tonelli-Shanks calculates r.\n",
    "\n",
    "The main use-case for this algorithm is finding elliptic curve co-ordinates. Its operation is somewhat complex so we're not going to discuss the details, however, implementations are easy to find and Sage has one built-in.\n",
    "\n",
    "Find the square root of a modulo the 2048-bit prime p. Give the smaller of the two roots as your answer.\n",
    "\n",
    "output.txt"
   ]
  },
  {
   "cell_type": "code",
   "execution_count": 25,
   "id": "23f62a69",
   "metadata": {},
   "outputs": [],
   "source": [
    "with open(\"output_modular.txt\") as f: \n",
    "    lines = f.readlines()"
   ]
  },
  {
   "cell_type": "code",
   "execution_count": 27,
   "id": "6096e540",
   "metadata": {},
   "outputs": [],
   "source": [
    "a=int(lines[0].strip('a =\\n'))\n",
    "p=int(lines[1].strip('p =\\n'))"
   ]
  },
  {
   "cell_type": "markdown",
   "id": "f71545cc",
   "metadata": {},
   "source": [
    "The following is an implementation of the Tonelli-Shanks theorem in python from [Svetlin Nakov](https://gist.github.com/nakov/60d62bdf4067ea72b7832ce9f71ae079)"
   ]
  },
  {
   "cell_type": "code",
   "execution_count": 29,
   "id": "cda37886",
   "metadata": {},
   "outputs": [],
   "source": [
    "def modular_sqrt(a, p):\n",
    "\n",
    "    def legendre_symbol(a, p):\n",
    "        \"\"\" Compute the Legendre symbol a|p using\n",
    "            Euler's criterion. p is a prime, a is\n",
    "            relatively prime to p (if p divides\n",
    "            a, then a|p = 0)\n",
    "            Returns 1 if a has a square root modulo\n",
    "            p, -1 otherwise.\n",
    "        \"\"\"\n",
    "        ls = pow(a, (p - 1) // 2, p)\n",
    "        return -1 if ls == p - 1 else ls\n",
    "\n",
    "    \"\"\" Find a quadratic residue (mod p) of 'a'. p\n",
    "        must be an odd prime.\n",
    "        Solve the congruence of the form:\n",
    "            x^2 = a (mod p)\n",
    "        And returns x. Note that p - x is also a root.\n",
    "        0 is returned is no square root exists for\n",
    "        these a and p.\n",
    "        The Tonelli-Shanks algorithm is used (except\n",
    "        for some simple cases in which the solution\n",
    "        is known from an identity). This algorithm\n",
    "        runs in polynomial time (unless the\n",
    "        generalized Riemann hypothesis is false).\n",
    "    \"\"\"\n",
    "    # Simple cases\n",
    "    #\n",
    "    if legendre_symbol(a, p) != 1:\n",
    "        return 0\n",
    "    elif a == 0:\n",
    "        return 0\n",
    "    elif p == 2:\n",
    "        return p\n",
    "    elif p % 4 == 3:\n",
    "        return pow(a, (p + 1) // 4, p)\n",
    "\n",
    "    # Partition p-1 to s * 2^e for an odd s (i.e.\n",
    "    # reduce all the powers of 2 from p-1)\n",
    "    #\n",
    "    s = p - 1\n",
    "    e = 0\n",
    "    while s % 2 == 0:\n",
    "        s //= 2\n",
    "        e += 1\n",
    "\n",
    "    # Find some 'n' with a legendre symbol n|p = -1.\n",
    "    # Shouldn't take long.\n",
    "    #\n",
    "    n = 2\n",
    "    while legendre_symbol(n, p) != -1:\n",
    "        n += 1\n",
    "\n",
    "    # Here be dragons!\n",
    "    # Read the paper \"Square roots from 1; 24, 51,\n",
    "    # 10 to Dan Shanks\" by Ezra Brown for more\n",
    "    # information\n",
    "    #\n",
    "\n",
    "    # x is a guess of the square root that gets better\n",
    "    # with each iteration.\n",
    "    # b is the \"fudge factor\" - by how much we're off\n",
    "    # with the guess. The invariant x^2 = ab (mod p)\n",
    "    # is maintained throughout the loop.\n",
    "    # g is used for successive powers of n to update\n",
    "    # both a and b\n",
    "    # r is the exponent - decreases with each update\n",
    "    #\n",
    "    x = pow(a, (s + 1) // 2, p)\n",
    "    b = pow(a, s, p)\n",
    "    g = pow(n, s, p)\n",
    "    r = e\n",
    "\n",
    "    while True:\n",
    "        t = b\n",
    "        m = 0\n",
    "        for m in range(r):\n",
    "            if t == 1:\n",
    "                break\n",
    "            t = pow(t, 2, p)\n",
    "\n",
    "        if m == 0:\n",
    "            return x\n",
    "\n",
    "        gs = pow(g, 2 ** (r - m - 1), p)\n",
    "        g = (gs * gs) % p\n",
    "        x = (x * gs) % p\n",
    "        b = (b * g) % p\n",
    "        r = m"
   ]
  },
  {
   "cell_type": "code",
   "execution_count": 30,
   "id": "8d183019",
   "metadata": {},
   "outputs": [
    {
     "data": {
      "text/plain": [
       "2362339307683048638327773298580489298932137505520500388338271052053734747862351779647314176817953359071871560041125289919247146074907151612762640868199621186559522068338032600991311882224016021222672243139362180461232646732465848840425458257930887856583379600967761738596782877851318489355679822813155123045705285112099448146426755110160002515592418850432103641815811071548456284263507805589445073657565381850521367969675699760755310784623577076440037747681760302434924932113640061738777601194622244192758024180853916244427254065441962557282572849162772740798989647948645207349737457445440405057156897508368531939120"
      ]
     },
     "execution_count": 30,
     "metadata": {},
     "output_type": "execute_result"
    }
   ],
   "source": [
    "modular_sqrt(a, p)"
   ]
  },
  {
   "cell_type": "markdown",
   "id": "619dd4e3",
   "metadata": {},
   "source": [
    "On to the next one!\n",
    "## Chinese Remainder Theorem\n",
    "The Chinese Remainder Theorem gives a unique solution to a set of linear congruences if their moduli are coprime.\n",
    "\n",
    "This means, that given a set of arbitrary integers a<sub>i</sub>, and pairwise coprime integers n<sub>i</sub>, such that the following linear congruences hold:\n",
    "```\n",
    "x ≡ a1 mod n1\n",
    "x ≡ a2 mod n2\n",
    "...\n",
    "x ≡ an mod nn\n",
    "```\n",
    "\n",
    "There is a unique solution `x ≡ a mod N` where `N = n1 * n2 * ... * nn`.\n",
    "\n",
    "In cryptography, we commonly use the Chinese Remainder Theorem to help us reduce a problem of very large integers into a set of several, easier problems.\n",
    "\n",
    "Given the following set of linear congruences:\n",
    "```\n",
    "x ≡ 2 mod 5\n",
    "x ≡ 3 mod 11\n",
    "x ≡ 5 mod 17 \n",
    "```\n",
    "Find the integer a such that `x ≡ a mod 935`\n",
    "\n",
    "Starting with the congruence with the largest modulus, use that for `x ≡ a mod p` we can write `x = a + k*p` for arbitrary integer `k`."
   ]
  },
  {
   "cell_type": "code",
   "execution_count": 40,
   "id": "13cdf247",
   "metadata": {},
   "outputs": [
    {
     "name": "stdout",
     "output_type": "stream",
     "text": [
      "872.0\n"
     ]
    }
   ],
   "source": [
    "from functools import reduce\n",
    "\n",
    "def chinese_remainder(n, a):\n",
    "    sum = 0\n",
    "    prod = reduce(lambda a, b: a*b, n)\n",
    "    for n_i, a_i in zip(n,a):\n",
    "        p = prod/n_i\n",
    "        sum += a_i * mul_inv(p, n_i) * p\n",
    "    return sum % prod\n",
    "    \n",
    "def mul_inv(a, b):\n",
    "    b0 = b\n",
    "    x0, x1 = 0,1\n",
    "    if b == 1:\n",
    "        return 1\n",
    "    while a > 1:\n",
    "        q = a // b\n",
    "        a , b = b, a%b\n",
    "        x0, x1 = x1 -q*x0, x0\n",
    "    if x1 < 0:\n",
    "        x1 += b0\n",
    "    return x1\n",
    "\n",
    "a = [2,3,5] # x = a mod x\n",
    "n = [5,11,17] # x = x mod n\n",
    "\n",
    "\n",
    "print(chinese_remainder(n,a))"
   ]
  },
  {
   "cell_type": "markdown",
   "id": "079f62cf",
   "metadata": {},
   "source": [
    "On to the next section!\n",
    "# Lattices\n",
    "## Vectors"
   ]
  },
  {
   "cell_type": "code",
   "execution_count": null,
   "id": "07e03173",
   "metadata": {},
   "outputs": [],
   "source": []
  }
 ],
 "metadata": {
  "kernelspec": {
   "display_name": "Python 3",
   "language": "python",
   "name": "python3"
  },
  "language_info": {
   "codemirror_mode": {
    "name": "ipython",
    "version": 3
   },
   "file_extension": ".py",
   "mimetype": "text/x-python",
   "name": "python",
   "nbconvert_exporter": "python",
   "pygments_lexer": "ipython3",
   "version": "3.7.10"
  }
 },
 "nbformat": 4,
 "nbformat_minor": 5
}
