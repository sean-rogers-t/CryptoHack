{
 "cells": [
  {
   "cell_type": "markdown",
   "id": "2f2d34cc",
   "metadata": {},
   "source": [
    "# CryptoHack_Mathematics\n",
    "\n",
    "This category covers more advanced cryptographic math. It's not necessary to solve these before moving to the Block Cipher and RSA sections. However, the first challenges will expand your modular toolbox, while the later ones are reported to be among the most satisfying puzzles to solve on CryptoHack. There are 22 challenges."
   ]
  },
  {
   "cell_type": "markdown",
   "id": "4ba3efac",
   "metadata": {},
   "source": [
    "# Modular Math\n",
    "## Quadratic Residues"
   ]
  },
  {
   "cell_type": "markdown",
   "id": "eeeb1b21",
   "metadata": {},
   "source": [
    "We've looked at multiplication and division in modular arithmetic, but what does it mean to take the square root modulo an integer?\n",
    "\n",
    "For the following discussion, let's work modulo $p = 29$. We can take the integer $a = 11$ and calculate $a^2 = 5\\ mod\\ 29$.\n",
    "\n",
    "As $a = 11$, $a^2 = 5$, we say the square root of 5 is 11.\n",
    "\n",
    "This feels good, but now let's think about the square root of 18. From the above, we know we need to find some integer a such that $a^2 = 18$\n",
    "\n",
    "Your first idea might be to start with $a = 1$ and loop to $a = p-1$. In this discussion p isn't too large and we can quickly look.\n",
    "\n",
    "Have a go, try coding this and see what you find. If you've coded it right, you'll find that for all $a ∈ F_p^*$ you never find an a such that $a^2 = 18$.\n",
    "\n",
    "What we are seeing, is that for the elements of $F_p^*$, not every element has a square root. In fact, what we find is that for roughly one half of the elements of $F_p^*$, there is no square root.\n",
    "\n",
    "We say that an integer $x$ is a Quadratic Residue if there exists an $a$ such that $a^2 = x\\ mod\\ p$. If there is no such solution, then the integer is a Quadratic Non-Residue.\n",
    "\n",
    "In other words, $x$ is a quadratic residue when it is possible to take the square root of $x$ modulo an integer $p$.\n",
    "\n",
    "In the below list there are two non-quadratic residues and one quadratic residue.\n",
    "\n",
    "Find the quadratic residue and then calculate its square root. Of the two possible roots, submit the smaller one as the flag.\n",
    "\n",
    "If $a^2 = x$ then $(-a)^2 = x$. So if $x$ is a quadratic residue in some finite field, then there are always two solutions for $a$.\n",
    "\n",
    "```\n",
    "p = 29\n",
    "ints = [14, 6, 11] \n",
    "```"
   ]
  },
  {
   "cell_type": "code",
   "execution_count": 5,
   "id": "4ba0415a",
   "metadata": {},
   "outputs": [
    {
     "name": "stdout",
     "output_type": "stream",
     "text": [
      "(8, 6)\n",
      "(21, 6)\n"
     ]
    }
   ],
   "source": [
    "squares=[(x,x**2%29) for x in range(29)]\n",
    "for item in squares:\n",
    "    if item[1]==6:\n",
    "        print(item)"
   ]
  },
  {
   "cell_type": "markdown",
   "id": "764fce9a",
   "metadata": {},
   "source": [
    "So the smaller quadratic residue is 8. On to the next one!\n",
    "## Legendre Symbol\n",
    "\n",
    "In Quadratic Residues we learnt what it means to take the square root modulo an integer. We also saw that taking a root isn't always possible.\n",
    "\n",
    "In the previous case when $p = 29$, even the simplest method of calculating the square root was fast enough, but as p gets larger, this method becomes wildly unreasonable.\n",
    "\n",
    "Lucky for us, we have a way to check whether an integer is a quadratic residue with a single calculation thanks to Legendre. In the following, we will assume we are working modulo a prime $p$.\n",
    "\n",
    "Before looking at Legendre's symbol, let's take a brief detour to see an interesting property of quadratic (non-)residues.\n",
    "\n",
    "```\n",
    "Quadratic Residue * Quadratic Residue = Quadratic Residue\n",
    "Quadratic Residue * Quadratic Non-residue = Quadratic Non-residue\n",
    "Quadratic Non-residue * Quadratic Non-residue = Quadratic Residue \n",
    "```\n",
    "So what's the trick? The Legendre Symbol gives an efficient way to determine whether an integer is a quadratic residue modulo an odd prime p.\n",
    "\n",
    "Legendre's Symbol: $(a / p) ≡ a^{(p-1)/2}$ mod p obeys:\n",
    "```\n",
    "(a / p) = 1 if a is a quadratic residue and a ≢ 0 mod p\n",
    "(a / p) = -1 if a is a quadratic non-residue mod p\n",
    "(a / p) = 0 if a ≡ 0 mod p \n",
    "```\n",
    "Which means given any integer a, calculating `pow(a,(p-1)/2,p)` is enough to determine if a is a quadratic residue.\n",
    "\n",
    "Now for the flag. Given the following 1024 bit prime and 10 integers, find the quadratic residue and then calculate its square root; the square root is your flag. Of the two possible roots, submit the larger one as your answer.\n",
    "\n",
    "output.txt"
   ]
  },
  {
   "cell_type": "code",
   "execution_count": 22,
   "id": "987869ee",
   "metadata": {},
   "outputs": [],
   "source": [
    "with open(\"output_legendre.txt\") as f: \n",
    "    lines = f.readlines()  "
   ]
  },
  {
   "cell_type": "code",
   "execution_count": 23,
   "id": "5551341b",
   "metadata": {},
   "outputs": [
    {
     "data": {
      "text/plain": [
       "101524035174539890485408575671085261788758965189060164484385690801466167356667036677932998889725476582421738788500738738503134356158197247473850273565349249573867251280253564698939768700489401960767007716413932851838937641880157263936985954881657889497583485535527613578457628399173971810541670838543309159139"
      ]
     },
     "execution_count": 23,
     "metadata": {},
     "output_type": "execute_result"
    }
   ],
   "source": [
    "p=int(lines[0].strip('p =\\n'))\n",
    "p"
   ]
  },
  {
   "cell_type": "code",
   "execution_count": 24,
   "id": "7a975b8d",
   "metadata": {},
   "outputs": [],
   "source": [
    "int_list=[int(x) for x in lines[2].strip(\"ints =\\n[]\").split(',')]"
   ]
  },
  {
   "cell_type": "code",
   "execution_count": 17,
   "id": "db20a20a",
   "metadata": {},
   "outputs": [],
   "source": [
    "quadr_res = [n for n in int_list if pow(n, (p-1)//2, p)==1][0]"
   ]
  },
  {
   "cell_type": "markdown",
   "id": "f8e61670",
   "metadata": {},
   "source": [
    "Now that we have the quadratic residue, given that the prime is $p\\equiv3\\ mod\\ 4$, we can find the square root. If $a$ is a quadratic residue, then according to [Euler's Criterion](https://en.wikipedia.org/wiki/Euler%27s_criterion)\n",
    "$$a^{(p-1)/2}\\equiv1\\ mod\\ p$$\n",
    "It follows then that\n",
    "$$a^{(p+1)/2}\\equiv a^{(p-1)/2}a^{(p+1)/2}\\equiv a^{\\frac{(p-1)+(p+1)}{2}}\\equiv a^p\\equiv a\\ mod\\ p,$$ where the last equality follows from [Fermat's Little Theorem](https://en.wikipedia.org/wiki/Fermat%27s_little_theorem). Then since we know that $p\\equiv 3 mod 4$, i.e. $p=4\\cdot k+3$, it follows that $(p+1)/4$ is an integer. So, finally we have\n",
    "$$(a^{(p+1)/4})^2\\equiv a^{(p+1)/2}\\equiv a\\ mod\\ p.$$ So, the aquare root is..."
   ]
  },
  {
   "cell_type": "code",
   "execution_count": 21,
   "id": "6c03dfc2",
   "metadata": {},
   "outputs": [
    {
     "data": {
      "text/plain": [
       "93291799125366706806545638475797430512104976066103610269938025709952247020061090804870186195285998727680200979853848718589126765742550855954805290253592144209552123062161458584575060939481368210688629862036958857604707468372384278049741369153506182660264876115428251983455344219194133033177700490981696141526"
      ]
     },
     "execution_count": 21,
     "metadata": {},
     "output_type": "execute_result"
    }
   ],
   "source": [
    "pow(quadr_res, (p+1)//4, p)"
   ]
  },
  {
   "cell_type": "markdown",
   "id": "8acd6aad",
   "metadata": {},
   "source": [
    "On to the next one!\n",
    "## Modular Square Root\n",
    "In Legendre Symbol we introduced a fast way to determine whether a number is a square root modulo a prime. We can go further: there are algorithms for efficiently calculating such roots. The best one in practice is called Tonelli-Shanks, which gets its funny name from the fact that it was first described by an Italian in the 19th century and rediscovered independently by Daniel Shanks in the 1970s.\n",
    "\n",
    "All primes that aren't 2 are of the form `p ≡ 1 mod 4` or `p ≡ 3 mod 4`, since all odd numbers obey these congruences. As the previous challenge hinted, in the p ≡ 3 mod 4 case, a really simple formula for computing square roots can be derived directly from Fermat's little theorem. That leaves us still with the `p ≡ 1 mod 4` case, so a more general algorithm is required.\n",
    "\n",
    "In a congruence of the form `r^2 ≡ a mod p`, Tonelli-Shanks calculates r.\n",
    "\n",
    "The main use-case for this algorithm is finding elliptic curve co-ordinates. Its operation is somewhat complex so we're not going to discuss the details, however, implementations are easy to find and Sage has one built-in.\n",
    "\n",
    "Find the square root of a modulo the 2048-bit prime p. Give the smaller of the two roots as your answer.\n",
    "\n",
    "output.txt"
   ]
  },
  {
   "cell_type": "code",
   "execution_count": 25,
   "id": "23f62a69",
   "metadata": {},
   "outputs": [],
   "source": [
    "with open(\"output_modular.txt\") as f: \n",
    "    lines = f.readlines()"
   ]
  },
  {
   "cell_type": "code",
   "execution_count": 27,
   "id": "6096e540",
   "metadata": {},
   "outputs": [],
   "source": [
    "a=int(lines[0].strip('a =\\n'))\n",
    "p=int(lines[1].strip('p =\\n'))"
   ]
  },
  {
   "cell_type": "markdown",
   "id": "f71545cc",
   "metadata": {},
   "source": [
    "The following is an implementation of the Tonelli-Shanks theorem in python from [Svetlin Nakov](https://gist.github.com/nakov/60d62bdf4067ea72b7832ce9f71ae079)"
   ]
  },
  {
   "cell_type": "code",
   "execution_count": 29,
   "id": "cda37886",
   "metadata": {},
   "outputs": [],
   "source": [
    "def modular_sqrt(a, p):\n",
    "\n",
    "    def legendre_symbol(a, p):\n",
    "        \"\"\" Compute the Legendre symbol a|p using\n",
    "            Euler's criterion. p is a prime, a is\n",
    "            relatively prime to p (if p divides\n",
    "            a, then a|p = 0)\n",
    "            Returns 1 if a has a square root modulo\n",
    "            p, -1 otherwise.\n",
    "        \"\"\"\n",
    "        ls = pow(a, (p - 1) // 2, p)\n",
    "        return -1 if ls == p - 1 else ls\n",
    "\n",
    "    \"\"\" Find a quadratic residue (mod p) of 'a'. p\n",
    "        must be an odd prime.\n",
    "        Solve the congruence of the form:\n",
    "            x^2 = a (mod p)\n",
    "        And returns x. Note that p - x is also a root.\n",
    "        0 is returned is no square root exists for\n",
    "        these a and p.\n",
    "        The Tonelli-Shanks algorithm is used (except\n",
    "        for some simple cases in which the solution\n",
    "        is known from an identity). This algorithm\n",
    "        runs in polynomial time (unless the\n",
    "        generalized Riemann hypothesis is false).\n",
    "    \"\"\"\n",
    "    # Simple cases\n",
    "    #\n",
    "    if legendre_symbol(a, p) != 1:\n",
    "        return 0\n",
    "    elif a == 0:\n",
    "        return 0\n",
    "    elif p == 2:\n",
    "        return p\n",
    "    elif p % 4 == 3:\n",
    "        return pow(a, (p + 1) // 4, p)\n",
    "\n",
    "    # Partition p-1 to s * 2^e for an odd s (i.e.\n",
    "    # reduce all the powers of 2 from p-1)\n",
    "    #\n",
    "    s = p - 1\n",
    "    e = 0\n",
    "    while s % 2 == 0:\n",
    "        s //= 2\n",
    "        e += 1\n",
    "\n",
    "    # Find some 'n' with a legendre symbol n|p = -1.\n",
    "    # Shouldn't take long.\n",
    "    #\n",
    "    n = 2\n",
    "    while legendre_symbol(n, p) != -1:\n",
    "        n += 1\n",
    "\n",
    "    # Here be dragons!\n",
    "    # Read the paper \"Square roots from 1; 24, 51,\n",
    "    # 10 to Dan Shanks\" by Ezra Brown for more\n",
    "    # information\n",
    "    #\n",
    "\n",
    "    # x is a guess of the square root that gets better\n",
    "    # with each iteration.\n",
    "    # b is the \"fudge factor\" - by how much we're off\n",
    "    # with the guess. The invariant x^2 = ab (mod p)\n",
    "    # is maintained throughout the loop.\n",
    "    # g is used for successive powers of n to update\n",
    "    # both a and b\n",
    "    # r is the exponent - decreases with each update\n",
    "    #\n",
    "    x = pow(a, (s + 1) // 2, p)\n",
    "    b = pow(a, s, p)\n",
    "    g = pow(n, s, p)\n",
    "    r = e\n",
    "\n",
    "    while True:\n",
    "        t = b\n",
    "        m = 0\n",
    "        for m in range(r):\n",
    "            if t == 1:\n",
    "                break\n",
    "            t = pow(t, 2, p)\n",
    "\n",
    "        if m == 0:\n",
    "            return x\n",
    "\n",
    "        gs = pow(g, 2 ** (r - m - 1), p)\n",
    "        g = (gs * gs) % p\n",
    "        x = (x * gs) % p\n",
    "        b = (b * g) % p\n",
    "        r = m"
   ]
  },
  {
   "cell_type": "code",
   "execution_count": 30,
   "id": "8d183019",
   "metadata": {},
   "outputs": [
    {
     "data": {
      "text/plain": [
       "2362339307683048638327773298580489298932137505520500388338271052053734747862351779647314176817953359071871560041125289919247146074907151612762640868199621186559522068338032600991311882224016021222672243139362180461232646732465848840425458257930887856583379600967761738596782877851318489355679822813155123045705285112099448146426755110160002515592418850432103641815811071548456284263507805589445073657565381850521367969675699760755310784623577076440037747681760302434924932113640061738777601194622244192758024180853916244427254065441962557282572849162772740798989647948645207349737457445440405057156897508368531939120"
      ]
     },
     "execution_count": 30,
     "metadata": {},
     "output_type": "execute_result"
    }
   ],
   "source": [
    "modular_sqrt(a, p)"
   ]
  },
  {
   "cell_type": "markdown",
   "id": "619dd4e3",
   "metadata": {},
   "source": [
    "On to the next one!\n",
    "## Chinese Remainder Theorem\n",
    "The Chinese Remainder Theorem gives a unique solution to a set of linear congruences if their moduli are coprime.\n",
    "\n",
    "This means, that given a set of arbitrary integers a<sub>i</sub>, and pairwise coprime integers n<sub>i</sub>, such that the following linear congruences hold:\n",
    "```\n",
    "x ≡ a1 mod n1\n",
    "x ≡ a2 mod n2\n",
    "...\n",
    "x ≡ an mod nn\n",
    "```\n",
    "\n",
    "There is a unique solution `x ≡ a mod N` where `N = n1 * n2 * ... * nn`.\n",
    "\n",
    "In cryptography, we commonly use the Chinese Remainder Theorem to help us reduce a problem of very large integers into a set of several, easier problems.\n",
    "\n",
    "Given the following set of linear congruences:\n",
    "```\n",
    "x ≡ 2 mod 5\n",
    "x ≡ 3 mod 11\n",
    "x ≡ 5 mod 17 \n",
    "```\n",
    "Find the integer a such that `x ≡ a mod 935`\n",
    "\n",
    "Starting with the congruence with the largest modulus, use that for `x ≡ a mod p` we can write `x = a + k*p` for arbitrary integer `k`."
   ]
  },
  {
   "cell_type": "code",
   "execution_count": 40,
   "id": "13cdf247",
   "metadata": {},
   "outputs": [
    {
     "name": "stdout",
     "output_type": "stream",
     "text": [
      "872.0\n"
     ]
    }
   ],
   "source": [
    "from functools import reduce\n",
    "\n",
    "def chinese_remainder(n, a):\n",
    "    sum = 0\n",
    "    prod = reduce(lambda a, b: a*b, n)\n",
    "    for n_i, a_i in zip(n,a):\n",
    "        p = prod/n_i\n",
    "        sum += a_i * mul_inv(p, n_i) * p\n",
    "    return sum % prod\n",
    "    \n",
    "def mul_inv(a, b):\n",
    "    b0 = b\n",
    "    x0, x1 = 0,1\n",
    "    if b == 1:\n",
    "        return 1\n",
    "    while a > 1:\n",
    "        q = a // b\n",
    "        a , b = b, a%b\n",
    "        x0, x1 = x1 -q*x0, x0\n",
    "    if x1 < 0:\n",
    "        x1 += b0\n",
    "    return x1\n",
    "\n",
    "a = [2,3,5] # x = a mod x\n",
    "n = [5,11,17] # x = x mod n\n",
    "\n",
    "\n",
    "print(chinese_remainder(n,a))"
   ]
  },
  {
   "cell_type": "markdown",
   "id": "079f62cf",
   "metadata": {},
   "source": [
    "On to the next section!\n",
    "# Lattices\n",
    "## Vectors"
   ]
  },
  {
   "cell_type": "markdown",
   "id": "e673e58b",
   "metadata": {},
   "source": [
    "Before defining a lattice or talking about how lattices appear in cryptography, let's review some of the basics of linear algebra. The following challenges should be considered as revision, if this is totally new to you, you might need to do a bit of background reading. As usual, we recommend \"An Introduction to Mathematical Cryptography\" by Hoffstein, Pipher, Silverman, as well as this excellent introduction to lattices and their applications.\n",
    "\n",
    "A vector space V over a field F is a set defined with two binary operators. For a vector v ∈ V, and a scalar a ∈ F, vector addition takes two vectors and produces another vector: v + w = z, for v,w,z ∈ V and scalar multiplication takes a vector and a scalar and produces a vector: a*v = w, for v,w ∈ V, a ∈ F.\n",
    "\n",
    "You will probably have first seen vectors in the context of a two dimensional vector space defined over the reals. We'll use this here too as an example!\n",
    "\n",
    "Let's consider a two dimensional vector space over the reals. A vector v ∈ V can be considered as a pair of numbers: v = (a,b) for a,b ∈ R. Vector addition works as v + w = (a,b) + (c,d) = (a+c, b+d), and scalar multiplication by c*v = c*(a,b) = (c*a, c*b).\n",
    "\n",
    "One can also define the inner product (also called the dot product), which takes two vectors and returns a scalar. Formally we think of this as v ∙ w = a for v,w ∈ V, a ∈ F. In our two-dimensional example, the inner product works as v ∙ w = (a,b) ∙ (c,d) = a*c + b*d.\n",
    "\n",
    "Time for the flag! Given a three dimensional vector space defined over the reals, where v = (2,6,3), w = (1,0,0) and u = (7,7,2), calculate 3*(2*v - w) ∙ 2*u.\n",
    "\n",
    "Python contains the very useful library `numpy` for linear algebra computations!"
   ]
  },
  {
   "cell_type": "code",
   "execution_count": 1,
   "id": "fe9d693a",
   "metadata": {},
   "outputs": [],
   "source": [
    "import numpy as np"
   ]
  },
  {
   "cell_type": "code",
   "execution_count": 51,
   "id": "656e9121",
   "metadata": {},
   "outputs": [],
   "source": [
    "v=np.array([2,6,3])\n",
    "w=np.array([1,0,0])\n",
    "u=np.array([7,7,2])"
   ]
  },
  {
   "cell_type": "code",
   "execution_count": 54,
   "id": "866b6247",
   "metadata": {},
   "outputs": [
    {
     "data": {
      "text/plain": [
       "702"
      ]
     },
     "execution_count": 54,
     "metadata": {},
     "output_type": "execute_result"
    }
   ],
   "source": [
    "np.dot(3*(2*v-w),2*u)"
   ]
  },
  {
   "cell_type": "markdown",
   "id": "b16490a0",
   "metadata": {},
   "source": [
    "On to the next one!\n",
    "## Size and Basis\n",
    "\n",
    "We say a set of vectors v1, v2, ..., vk ∈ V are linearly independent if the only solution to the equation:\n",
    "```\n",
    "a1*v1 + a2*v2 + ... + ak*vk = 0\n",
    "```\n",
    "is for a1 = a2 = ... = ak = 0.\n",
    "\n",
    "A basis is a set of linearly independent vectors v1, v2, ..., vn ∈ V such that any vector w ∈ V can be written as:\n",
    "```\n",
    "w = a1*v1 + a2*v2 + ... + ak*vn\n",
    "```\n",
    "The number of elements in the basis is also the dimension of the vector space.\n",
    "\n",
    "We define the size of a vector, denoted ||v||, using the inner product of the vector with itself: $||v||^2 = v ∙ v$.\n",
    "\n",
    "A basis is orthogonal if for a vector basis $v_1, v_2, ..., v_n ∈ V$, the inner product between any two different vectors is zero: v<sub>i</sub> ∙ v<sub>j</sub> = 0, i ≠ j.\n",
    "\n",
    "A basis is orthonormal if it is orthogonal and ||vi|| = 1, for all i.\n",
    "\n",
    "That's a lot of stuff, but we'll be needing it. Time for the flag. Given the vector v = (4, 6, 2, 5), calculate its size. "
   ]
  },
  {
   "cell_type": "code",
   "execution_count": 55,
   "id": "8b24ffc3",
   "metadata": {},
   "outputs": [
    {
     "data": {
      "text/plain": [
       "9.0"
      ]
     },
     "execution_count": 55,
     "metadata": {},
     "output_type": "execute_result"
    }
   ],
   "source": [
    "x=np.array([4,6,2,5])\n",
    "np.linalg.norm(x)"
   ]
  },
  {
   "cell_type": "markdown",
   "id": "7a2ab7cf",
   "metadata": {},
   "source": [
    "On to the next one!\n",
    "## Gram-Schmidt Algorithm\n",
    "In the last challenge we saw that there is a special kind of basis called an orthogonal basis. Given a basis v1, v2, ..., vn ∈ V for a vector space, the Gram-Schmidt algorithm calculates an orthogonal basis u1, u2, ..., un ∈ V.\n",
    "\n",
    "In \"An Introduction to Mathematical Cryptography\", Jeffrey Hoffstein, Jill Pipher, Joseph H. Silverman, the Gram-Schmidt algorithm is given as:\n",
    "\n",
    "Algorithm for Gram-Schmidt\n",
    "\n",
    "u<sub>1</sub> = v<sub>1</sub>\n",
    "\n",
    "Loop i = 2,3...,n\n",
    "\n",
    "   Compute μ<sub>ij</sub> = v<sub>i</sub> ∙ u<sub>j</sub> / ||u<sub>j</sub>||2, 1 ≤ j < i.\n",
    "   \n",
    "   Set u<sub>i</sub> = v<sub>i</sub> - μ<sub>ij</sub> * u<sub>j</sub> (Sum over j for 1 ≤ j < i)\n",
    "   \n",
    "End Loop\n",
    "\n",
    "\n",
    "To test your code, let's grab the flag. Given the following basis vectors:\n",
    "\n",
    "v1 = (4,1,3,-1), v2 = (2,1,-3,4), v3 = (1,0,-2,7), v4 = (6, 2, 9, -5),\n",
    "\n",
    "use the Gram-Schmidt algorithm to calculate an orthogonal basis. The flag is the float value of the second component of u4 to 5 significant figures.\n",
    "\n",
    "Note that this algorithm doesn't create an orthonormal basis! It's a small change to implement this. Think about what you would have to change. If you're using someone else's algorithm and the flag is incorrect, this might be the issue. If everything seems good and you're still not having your answer accepted, check your rounding when you take 5.s.f. for the solution."
   ]
  },
  {
   "cell_type": "code",
   "execution_count": 86,
   "id": "e297258c",
   "metadata": {},
   "outputs": [],
   "source": [
    "# Computes the projection of the vector v onto u\n",
    "def proj(u,v):\n",
    "    return (np.dot(u,v)/np.dot(u,u))*u"
   ]
  },
  {
   "cell_type": "code",
   "execution_count": 110,
   "id": "76a466a6",
   "metadata": {},
   "outputs": [],
   "source": [
    "# gives back the gram-schmidt basis of a list of np.arrays\n",
    "def gs(vec_list,norm=True):\n",
    "    gs_basis=[vec_list[0]]\n",
    "    ortho_basis=[vec_list[0]/np.linalg.norm(vec_list[0])]\n",
    "    for i in range(1,len(vec_list)):\n",
    "        v=vec_list[i]\n",
    "        u=v-sum([proj(x,v) for x in gs_basis[:i]])        \n",
    "        gs_basis.append(u)        \n",
    "        ortho_basis.append(u/np.linalg.norm(u))\n",
    "    if norm=True:\n",
    "        return ortho_basis\n",
    "    else:\n",
    "        return gs_basis"
   ]
  },
  {
   "cell_type": "code",
   "execution_count": 111,
   "id": "7b2c87ec",
   "metadata": {},
   "outputs": [],
   "source": [
    "vec_list=[np.array([4,1,3,-1]),np.array([2,1,-3,4]),np.array([1,0,-2,7]),np.array([6,2,9,-5])]"
   ]
  },
  {
   "cell_type": "code",
   "execution_count": 113,
   "id": "f87417d8",
   "metadata": {},
   "outputs": [
    {
     "data": {
      "text/plain": [
       "[array([ 4,  1,  3, -1]),\n",
       " array([ 2.59259259,  1.14814815, -2.55555556,  3.85185185]),\n",
       " array([-0.72292191, -1.02015113,  2.01259446,  2.12594458]),\n",
       " array([-0.36191897,  0.91610738,  0.21488939,  0.11309968])]"
      ]
     },
     "execution_count": 113,
     "metadata": {},
     "output_type": "execute_result"
    }
   ],
   "source": [
    "answer=gs(vec_list)\n",
    "answer"
   ]
  },
  {
   "cell_type": "markdown",
   "id": "879896a5",
   "metadata": {},
   "source": [
    "On to the next one!\n",
    "## What's a Lattice\n",
    "We're now ready to start talking about lattices. Given a set of linearly independent vectors v1, v2, ..., vn ∈ Rm, the lattice L generated by v1, v2, ..., vn is the set of linearly independent vectors v1, v2, ..., vn with integer coefficients.\n",
    "\n",
    "$$L = {a_1*v_1 + a_2*v_2 + ... + a_k*v_k : a_1, a_2, ..., a_n ∈ Z}. $$\n",
    "The basis for the lattice L is any set of independent vectors that generates L. The choice of basis is far from unique.\n",
    "\n",
    "Using a basis, we can reach any point within the lattice with integer multiples of the basis vectors. The basis vectors also define the fundamental domain:\n",
    "\n",
    "F(v1,...,vn) = {t1 v1 + t2 v2 + ... + tn vn : 0 ≤ ti < 1}.\n",
    "\n",
    "As a two dimensional example, the fundamental domain is the parallelogram with sides u1 and u2.\n",
    "\n",
    "We can calculate the volume of the fundamental domain from the basis vectors. As an example, let us take a two dimensional lattice with basis vectors v = (2,5), u = (3,1). Create a matrix A with rows corresponding to the basis vectors: A = [[2,5],[3,1]]. The volume of the fundamental domain is the magnitude of the determinant of A: Vol(F) = |det(A)| = |2*1 - 5*3| = |-13| = 13.\n",
    "\n",
    "For the flag, calculate the volume of the fundamental domain with the basis vectors v1 = (6, 2, -3), v2 = (5, 1, 4), v3 = (2, 7, 1)."
   ]
  },
  {
   "cell_type": "code",
   "execution_count": 116,
   "id": "c9daf439",
   "metadata": {},
   "outputs": [
    {
     "data": {
      "text/plain": [
       "array([[ 6,  2, -3],\n",
       "       [ 5,  1,  4],\n",
       "       [ 2,  7,  1]])"
      ]
     },
     "execution_count": 116,
     "metadata": {},
     "output_type": "execute_result"
    }
   ],
   "source": [
    "X=np.array([[6,2,-3],[5,1,4],[2,7,1]])\n",
    "X"
   ]
  },
  {
   "cell_type": "code",
   "execution_count": 119,
   "id": "d887f387",
   "metadata": {},
   "outputs": [
    {
     "data": {
      "text/plain": [
       "255"
      ]
     },
     "execution_count": 119,
     "metadata": {},
     "output_type": "execute_result"
    }
   ],
   "source": [
    "round(abs(np.linalg.det(X)))"
   ]
  },
  {
   "cell_type": "markdown",
   "id": "c615e36b",
   "metadata": {},
   "source": [
    "On to the next one!\n",
    "## Gaussian Reduction"
   ]
  },
  {
   "cell_type": "markdown",
   "id": "82e121b1",
   "metadata": {},
   "source": [
    "If you look closely enough, lattices start appearing everywhere in cryptography. Sometimes they appear through manipulation of a cryptosystem, breaking parameters which were not generated securely enough. The most famous example of this is Coppersmith's attack against RSA cryptography.\n",
    "\n",
    "Lattices can also be used to build cryptographic protocols, whose security is based on two fundamental \"hard\" problems:\n",
    "\n",
    "The Shortest Vector Problem (SVP): find the shortest non-zero vector in a lattice L. In other words, find the non-zero vector within v ∈ L such that ||v|| is minimised.\n",
    "\n",
    "The Closest Vector Problem (CVP): Given a vector w ∈ Rm that is not in L, find the vector v ∈ L that is the closest to w, i.e. find the vector v ∈ L such that ||v - w|| is minimised.\n",
    "\n",
    "The SVP is hard for a generic lattice, but for simple enough cases there are efficient algorithms to compute either a solution or an approximation for the SVP. When the dimension of the lattice is four or less, we can compute this exactly in polynomial time; for higher dimensions, we have to settle for an approximation.\n",
    "\n",
    "Gauss developed his algorithm to find an optimal basis for a two-dimensional lattice given an arbitrary basis. Moreover, the output v1 of the algorithm is a shortest nonzero vector in L, and so solves the SVP.\n",
    "\n",
    "For higher dimensions, there's a basis lattice reduction algorithm called the LLL algorithm, named after Lenstra, Lenstra and Lovász. If you play CTFs regularly, you'll already know about it. The LLL algorithm runs in polynomial time. For now though, lets stay in two dimensions.\n",
    "\n",
    "Gauss's algorithm roughly works by subtracting multiples of one basis vector from the other until it's no longer possible to make them any smaller. As this works in two-dimensions, it's nice to visualise. Here's a description of the algorithm from \"An Introduction to Mathematical Cryptography\", Jeffrey Hoffstein, Jill Pipher, Joseph H. Silverman:\n",
    "\n",
    "Algorithm for Gaussian Lattice Reduction\n",
    "```\n",
    "Loop\n",
    "   (a) If ||v2|| < ||v1||, swap v1, v2\n",
    "   (b) Compute m = ⌊ v1∙v2 / v1∙v1 ⌋\n",
    "   (c) If m = 0, return v1, v2\n",
    "   (d) v2 = v2 - m*v1\n",
    "Continue Loop\n",
    "```\n",
    "\n",
    "\n",
    "\n",
    "Note the similarity to Euclid's GCD algorithm with the \"swap\" and \"reduction\" steps, and that we have to use the floor, as on a lattice we may only use integer coefficients for our basis vectors.\n",
    "\n",
    "For the flag, take the two vectors v = (846835985, 9834798552), u = (87502093, 123094980) and by applying Gauss's algorithm, find the optimal basis. The flag is the inner product of the new basis vectors. "
   ]
  },
  {
   "cell_type": "code",
   "execution_count": 15,
   "id": "f4588508",
   "metadata": {},
   "outputs": [],
   "source": [
    "v2=np.array([846835985, 9834798552],dtype='int64')\n",
    "v1=np.array([87502093, 123094980],dtype='int64')"
   ]
  },
  {
   "cell_type": "code",
   "execution_count": 3,
   "id": "42d30ce6",
   "metadata": {},
   "outputs": [],
   "source": [
    "from math import floor"
   ]
  },
  {
   "cell_type": "code",
   "execution_count": 19,
   "id": "ab5277dd",
   "metadata": {},
   "outputs": [],
   "source": [
    "def gauss_red(v1,v2):\n",
    "    while True:\n",
    "        if np.linalg.norm(v2)<=np.linalg.norm(v1):\n",
    "            dummy=v1\n",
    "            v1=v2\n",
    "            v2=dummy\n",
    "        m=round(np.dot(v1,v2)/np.dot(v1,v1))\n",
    "        if m==0:\n",
    "            break\n",
    "        v2=v2-m*v1\n",
    "    return (v1,v2)        "
   ]
  },
  {
   "cell_type": "code",
   "execution_count": 22,
   "id": "c9fd00c1",
   "metadata": {},
   "outputs": [],
   "source": [
    "[u1,u2]=gauss_red(v1,v2)"
   ]
  },
  {
   "cell_type": "code",
   "execution_count": 24,
   "id": "a2ea80e9",
   "metadata": {},
   "outputs": [
    {
     "data": {
      "text/plain": [
       "7410790865146821"
      ]
     },
     "execution_count": 24,
     "metadata": {},
     "output_type": "execute_result"
    }
   ],
   "source": [
    "flag=np.dot(u1,u2)\n",
    "flag"
   ]
  },
  {
   "cell_type": "markdown",
   "id": "08b9f4d9",
   "metadata": {},
   "source": [
    "On to the next one!\n",
    "## Find the Lattice!\n",
    "As we've seen, lattices contain hard problems which can form trapdoor functions for cryptosystems. We also find that in cryptanalysis, lattices can break cryptographic protocols which seem at first to be unrelated to lattices.\n",
    "\n",
    "This challenge uses modular arithmetic to encrypt the flag, but hidden within the protocol is a two-dimensional lattice. We highly recommend spending time with this challenge and finding how you can break it with a lattice. This is a famous example with plenty of resources available, but knowing how to spot the lattice within a system is often the key to breaking it.\n",
    "\n",
    "As a hint, you will be able to break this challenge using the Gaussian reduction from the previous challenge.\n",
    "\n",
    "source.py\n",
    "\n",
    "output.txt"
   ]
  },
  {
   "cell_type": "code",
   "execution_count": 25,
   "id": "0e0d0575",
   "metadata": {},
   "outputs": [
    {
     "name": "stdout",
     "output_type": "stream",
     "text": [
      "Public key: (10709076012308061061966706794705215896241556702846306736278332008554918126700669902747737698380557407674639707989060843779530281602234870934485562879440723, 3925330593581673036826041871122059633660632794025669659960822782826425754056642132416068262238817805760177121291325534193162239096339433547352516379355264)\n",
      "Encrypted Flag: 3111382730250476535080756447107329923353616127447745307378159621849057574899911052962350820421131667609863003560915109855622254206297964006679444540992039\n"
     ]
    }
   ],
   "source": [
    "from Crypto.Util.number import getPrime, inverse, bytes_to_long\n",
    "import random\n",
    "import math\n",
    "\n",
    "FLAG = b'crypto{?????????????????????}'\n",
    "\n",
    "\n",
    "def gen_key():\n",
    "    q = getPrime(512)\n",
    "    upper_bound = int(math.sqrt(q // 2))\n",
    "    lower_bound = int(math.sqrt(q // 4))\n",
    "    f = random.randint(2, upper_bound)\n",
    "    while True:\n",
    "        g = random.randint(lower_bound, upper_bound)\n",
    "        if math.gcd(f, g) == 1:\n",
    "            break\n",
    "    h = (inverse(f, q)*g) % q\n",
    "    return (q, h), (f, g)\n",
    "\n",
    "\n",
    "def encrypt(q, h, m):\n",
    "    assert m < int(math.sqrt(q // 2))\n",
    "    r = random.randint(2, int(math.sqrt(q // 2)))\n",
    "    e = (r*h + m) % q\n",
    "    return e\n",
    "\n",
    "\n",
    "def decrypt(q, h, f, g, e):\n",
    "    a = (f*e) % q\n",
    "    m = (a*inverse(f, g)) % g\n",
    "    return m\n",
    "\n",
    "\n",
    "public, private = gen_key()\n",
    "q, h = public\n",
    "f, g = private\n",
    "\n",
    "m = bytes_to_long(FLAG)\n",
    "e = encrypt(q, h, m)\n",
    "\n",
    "print(f'Public key: {(q,h)}')\n",
    "print(f'Encrypted Flag: {e}')"
   ]
  },
  {
   "cell_type": "code",
   "execution_count": 26,
   "id": "743da586",
   "metadata": {},
   "outputs": [],
   "source": [
    "with open('output_findthelattice.txt') as f:\n",
    "    lines=f.readlines()"
   ]
  },
  {
   "cell_type": "code",
   "execution_count": 27,
   "id": "7cdfbf74",
   "metadata": {},
   "outputs": [
    {
     "data": {
      "text/plain": [
       "['Public key: (7638232120454925879231554234011842347641017888219021175304217358715878636183252433454896490677496516149889316745664606749499241420160898019203925115292257, 2163268902194560093843693572170199707501787797497998463462129592239973581462651622978282637513865274199374452805292639586264791317439029535926401109074800)\\n',\n",
       " 'Encrypted Flag: 5605696495253720664142881956908624307570671858477482119657436163663663844731169035682344974286379049123733356009125671924280312532755241162267269123486523\\n']"
      ]
     },
     "execution_count": 27,
     "metadata": {},
     "output_type": "execute_result"
    }
   ],
   "source": [
    "lines"
   ]
  },
  {
   "cell_type": "code",
   "execution_count": 29,
   "id": "4c647ff1",
   "metadata": {},
   "outputs": [],
   "source": [
    "pubkey=(7638232120454925879231554234011842347641017888219021175304217358715878636183252433454896490677496516149889316745664606749499241420160898019203925115292257, 2163268902194560093843693572170199707501787797497998463462129592239973581462651622978282637513865274199374452805292639586264791317439029535926401109074800)"
   ]
  },
  {
   "cell_type": "code",
   "execution_count": 30,
   "id": "ee315869",
   "metadata": {},
   "outputs": [],
   "source": [
    "encflag=5605696495253720664142881956908624307570671858477482119657436163663663844731169035682344974286379049123733356009125671924280312532755241162267269123486523"
   ]
  },
  {
   "cell_type": "code",
   "execution_count": null,
   "id": "9efc7896",
   "metadata": {},
   "outputs": [],
   "source": []
  }
 ],
 "metadata": {
  "kernelspec": {
   "display_name": "Python 3",
   "language": "python",
   "name": "python3"
  },
  "language_info": {
   "codemirror_mode": {
    "name": "ipython",
    "version": 3
   },
   "file_extension": ".py",
   "mimetype": "text/x-python",
   "name": "python",
   "nbconvert_exporter": "python",
   "pygments_lexer": "ipython3",
   "version": "3.7.10"
  }
 },
 "nbformat": 4,
 "nbformat_minor": 5
}
